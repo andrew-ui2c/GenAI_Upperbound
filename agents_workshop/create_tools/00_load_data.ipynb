{
 "cells": [
  {
   "cell_type": "markdown",
   "metadata": {
    "application/vnd.databricks.v1+cell": {
     "cellMetadata": {},
     "inputWidgets": {},
     "nuid": "b59ad49c-94fc-4ed8-999c-b1bbe87213df",
     "showTitle": false,
     "tableResultSettingsMap": {},
     "title": ""
    }
   },
   "source": [
    "\n",
    "# Load customer service data"
   ]
  },
  {
   "cell_type": "code",
   "execution_count": 0,
   "metadata": {
    "application/vnd.databricks.v1+cell": {
     "cellMetadata": {
      "byteLimit": 2048000,
      "rowLimit": 10000
     },
     "inputWidgets": {},
     "nuid": "2767197d-ddb1-4283-97f0-269a84c430cd",
     "showTitle": false,
     "tableResultSettingsMap": {},
     "title": ""
    }
   },
   "outputs": [],
   "source": [
    "from databricks.sdk import WorkspaceClient\n",
    "import yaml\n",
    "import os\n",
    "\n",
    "# Use the workspace client to retrieve information about the current user\n",
    "w = WorkspaceClient()\n",
    "user_email = w.current_user.me().display_name\n",
    "username = user_email.split(\"@\")[0]\n",
    "\n",
    "#catalog_name = f\"{username}_vocareum_com\"\n",
    "catalog_name = \"cjc\" # replace with upperbound or name of your catalog\n",
    "schema_name = \"agents\"\n",
    "\n",
    "workspace_id = str(w.get_workspace_id())\n",
    "\n",
    "# Allows us to reference these values directly in the SQL/Python function creation\n",
    "dbutils.widgets.text(\"catalog_name\", defaultValue=catalog_name, label=\"Catalog Name\")\n",
    "dbutils.widgets.text(\"schema_name\", defaultValue=schema_name, label=\"Schema Name\")\n",
    "dbutils.widgets.text(\"workspace_id\", defaultValue=workspace_id, label=\"Workspace ID\")\n",
    "\n",
    "spark.sql(f\"CREATE SCHEMA IF NOT EXISTS {catalog_name}.{schema_name}\")"
   ]
  },
  {
   "cell_type": "code",
   "execution_count": 0,
   "metadata": {
    "application/vnd.databricks.v1+cell": {
     "cellMetadata": {
      "byteLimit": 2048000,
      "rowLimit": 10000
     },
     "inputWidgets": {},
     "nuid": "15e6f21a-86fa-4cf2-aeab-add78db56ca4",
     "showTitle": false,
     "tableResultSettingsMap": {},
     "title": ""
    }
   },
   "outputs": [],
   "source": [
    "user_folder= w.current_user.me().user_name\n",
    "data_fullpath = f\"file:/Workspace/Users/{user_folder}/GenAI_Upperbound/agents_workshop/data/\""
   ]
  },
  {
   "cell_type": "code",
   "execution_count": 0,
   "metadata": {
    "application/vnd.databricks.v1+cell": {
     "cellMetadata": {},
     "inputWidgets": {},
     "nuid": "e56c0aa7-1128-4c2f-8d81-80a94c50f80e",
     "showTitle": false,
     "tableResultSettingsMap": {},
     "title": ""
    }
   },
   "outputs": [],
   "source": [
    "spark.read.format(\"json\").load(\"file:/Workspace/Users/<user-folder>/data.json\").show()\n",
    "/Workspace/Users/christopher.chalcraft@databricks.com/GenAI_Upperbound/agents_workshop/data/cust_service_data.csv"
   ]
  },
  {
   "cell_type": "code",
   "execution_count": 0,
   "metadata": {
    "application/vnd.databricks.v1+cell": {
     "cellMetadata": {
      "byteLimit": 2048000,
      "rowLimit": 10000
     },
     "inputWidgets": {},
     "nuid": "daa6ea2e-3da4-4d99-9500-4898c07c804a",
     "showTitle": false,
     "tableResultSettingsMap": {},
     "title": ""
    }
   },
   "outputs": [],
   "source": [
    "import os\n",
    "\n",
    "data_folder = f\"../data/\"\n",
    "csv_files = [f for f in os.listdir(data_folder) if f.endswith('.csv')]\n",
    "print(csv_files)"
   ]
  },
  {
   "cell_type": "code",
   "execution_count": 0,
   "metadata": {
    "application/vnd.databricks.v1+cell": {
     "cellMetadata": {
      "byteLimit": 2048000,
      "rowLimit": 10000
     },
     "inputWidgets": {},
     "nuid": "94fdfb4d-54d4-43a9-a3c5-587710a0758e",
     "showTitle": false,
     "tableResultSettingsMap": {},
     "title": ""
    }
   },
   "outputs": [],
   "source": [
    "\n",
    "for csv_file in csv_files:\n",
    "    table_name = os.path.splitext(csv_file)[0]\n",
    "    df = spark.read.csv(os.path.join(data_folder, csv_file), header=True, inferSchema=True)\n",
    "    df.write.saveAsTable(f\"{catalog_name}.{schema_name}.{table_name}\")"
   ]
  },
  {
   "cell_type": "code",
   "execution_count": 0,
   "metadata": {
    "application/vnd.databricks.v1+cell": {
     "cellMetadata": {
      "byteLimit": 2048000,
      "rowLimit": 10000
     },
     "inputWidgets": {},
     "nuid": "170f740f-f280-445c-90e5-7b00042ef6e9",
     "showTitle": false,
     "tableResultSettingsMap": {},
     "title": ""
    }
   },
   "outputs": [],
   "source": [
    "for i in csv_files:\n",
    "    print(os.path.join(data_fullpath, i))"
   ]
  },
  {
   "cell_type": "code",
   "execution_count": 0,
   "metadata": {
    "application/vnd.databricks.v1+cell": {
     "cellMetadata": {
      "byteLimit": 2048000,
      "rowLimit": 10000
     },
     "inputWidgets": {},
     "nuid": "13000ae5-9f36-4cf0-ae42-3c02190761ba",
     "showTitle": false,
     "tableResultSettingsMap": {},
     "title": ""
    }
   },
   "outputs": [],
   "source": [
    "spark.read.csv(\"/Workspace/Users/christopher.chalcraft@databricks.com/GenAI_Upperbound/agents_workshop/data/policies.csv\", header=True, inferSchema=True).show()"
   ]
  },
  {
   "cell_type": "code",
   "execution_count": 0,
   "metadata": {
    "application/vnd.databricks.v1+cell": {
     "cellMetadata": {
      "byteLimit": 2048000,
      "rowLimit": 10000
     },
     "inputWidgets": {},
     "nuid": "f77761e4-d2d9-478e-ba9e-f1e70f8b659b",
     "showTitle": false,
     "tableResultSettingsMap": {},
     "title": ""
    }
   },
   "outputs": [],
   "source": [
    "dbutils.fs.cp(\n",
    "  \"file:/Workspace/Users/christopher.chalcraft@databricks.com/GenAI_Upperbound/agents_workshop/data/policies.csv\",\n",
    "  \"dbfs:/FileStore/policies.csv\"\n",
    ")\n"
   ]
  },
  {
   "cell_type": "code",
   "execution_count": 0,
   "metadata": {
    "application/vnd.databricks.v1+cell": {
     "cellMetadata": {},
     "inputWidgets": {},
     "nuid": "7350af0b-d5b4-4409-8eea-232241a9dc8f",
     "showTitle": false,
     "tableResultSettingsMap": {},
     "title": ""
    }
   },
   "outputs": [],
   "source": []
  }
 ],
 "metadata": {
  "application/vnd.databricks.v1+notebook": {
   "computePreferences": null,
   "dashboards": [],
   "environmentMetadata": {
    "base_environment": "",
    "environment_version": "2"
   },
   "inputWidgetPreferences": null,
   "language": "python",
   "notebookMetadata": {
    "pythonIndentUnit": 4
   },
   "notebookName": "00_load_data",
   "widgets": {
    "catalog_name": {
     "currentValue": "cjc",
     "nuid": "032f1f64-4d48-407e-bda4-80b60c298167",
     "typedWidgetInfo": {
      "autoCreated": false,
      "defaultValue": "cjc",
      "label": "Catalog Name",
      "name": "catalog_name",
      "options": {
       "widgetDisplayType": "Text",
       "validationRegex": null
      },
      "parameterDataType": "String"
     },
     "widgetInfo": {
      "widgetType": "text",
      "defaultValue": "cjc",
      "label": "Catalog Name",
      "name": "catalog_name",
      "options": {
       "widgetType": "text",
       "autoCreated": null,
       "validationRegex": null
      }
     }
    },
    "schema_name": {
     "currentValue": "agents",
     "nuid": "bc1f3728-6e63-478c-bd77-bc7d5442acee",
     "typedWidgetInfo": {
      "autoCreated": false,
      "defaultValue": "agents",
      "label": "Schema Name",
      "name": "schema_name",
      "options": {
       "widgetDisplayType": "Text",
       "validationRegex": null
      },
      "parameterDataType": "String"
     },
     "widgetInfo": {
      "widgetType": "text",
      "defaultValue": "agents",
      "label": "Schema Name",
      "name": "schema_name",
      "options": {
       "widgetType": "text",
       "autoCreated": null,
       "validationRegex": null
      }
     }
    },
    "workspace_id": {
     "currentValue": "984752964297111",
     "nuid": "2e7d2325-ea63-4206-8942-f9ab0e2eeb24",
     "typedWidgetInfo": {
      "autoCreated": false,
      "defaultValue": "984752964297111",
      "label": "Workspace ID",
      "name": "workspace_id",
      "options": {
       "widgetDisplayType": "Text",
       "validationRegex": null
      },
      "parameterDataType": "String"
     },
     "widgetInfo": {
      "widgetType": "text",
      "defaultValue": "984752964297111",
      "label": "Workspace ID",
      "name": "workspace_id",
      "options": {
       "widgetType": "text",
       "autoCreated": null,
       "validationRegex": null
      }
     }
    }
   }
  },
  "language_info": {
   "name": "python"
  }
 },
 "nbformat": 4,
 "nbformat_minor": 0
}
