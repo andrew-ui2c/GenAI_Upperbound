{
 "cells": [
  {
   "cell_type": "markdown",
   "metadata": {
    "application/vnd.databricks.v1+cell": {
     "cellMetadata": {},
     "inputWidgets": {},
     "nuid": "2e6844b7-0907-4f12-ad52-1a94b53360e2",
     "showTitle": false,
     "tableResultSettingsMap": {},
     "title": ""
    }
   },
   "source": [
    "# Tools\n",
    "This notebook takes the processed data and makes two tools - a simple Unity Catalog function and a Vector index with SQL vector search function."
   ]
  },
  {
   "cell_type": "code",
   "execution_count": 0,
   "metadata": {
    "application/vnd.databricks.v1+cell": {
     "cellMetadata": {
      "byteLimit": 2048000,
      "rowLimit": 10000
     },
     "inputWidgets": {},
     "nuid": "f293a96c-3add-4147-b6a6-4ff90c4b1197",
     "showTitle": false,
     "tableResultSettingsMap": {},
     "title": ""
    }
   },
   "outputs": [],
   "source": [
    "%pip install databricks_langchain langgraph==0.3.4 mlflow databricks-vectorsearch\n",
    "%restart_python"
   ]
  },
  {
   "cell_type": "code",
   "execution_count": 0,
   "metadata": {
    "application/vnd.databricks.v1+cell": {
     "cellMetadata": {
      "byteLimit": 2048000,
      "rowLimit": 10000
     },
     "inputWidgets": {},
     "nuid": "db62b149-c2c4-4323-8745-a4a76aa339ef",
     "showTitle": false,
     "tableResultSettingsMap": {},
     "title": ""
    }
   },
   "outputs": [],
   "source": [
    "import yaml\n",
    "with open('config.yaml', 'r') as f:\n",
    "    config = yaml.safe_load(f)\n",
    "\n",
    "dbutils.widgets.text(\"catalog\", config['catalog'])\n",
    "dbutils.widgets.text(\"schema\", config['schema'])\n",
    "dbutils.widgets.text(\"products_table\", config['products_table'])\n",
    "dbutils.widgets.text(\"fixed_camp_table\", config['fixed_camp_table'])\n",
    "dbutils.widgets.text(\"fm_endpoint_name\", config['fm_endpoint_name'])"
   ]
  },
  {
   "cell_type": "markdown",
   "metadata": {
    "application/vnd.databricks.v1+cell": {
     "cellMetadata": {},
     "inputWidgets": {},
     "nuid": "14414fe5-5c55-46d1-863f-f6e6da02377d",
     "showTitle": false,
     "tableResultSettingsMap": {},
     "title": ""
    }
   },
   "source": [
    "A simple SQL function as a tool - it has to have a good description and comments to allow our agent to call it properly."
   ]
  },
  {
   "cell_type": "code",
   "execution_count": 0,
   "metadata": {
    "application/vnd.databricks.v1+cell": {
     "cellMetadata": {
      "byteLimit": 2048000,
      "implicitDf": true,
      "rowLimit": 10000
     },
     "inputWidgets": {},
     "nuid": "7adbbbb6-a992-495a-98d5-0d229e2f7ea1",
     "showTitle": false,
     "tableResultSettingsMap": {},
     "title": ""
    }
   },
   "outputs": [],
   "source": [
    "%sql\n",
    "CREATE OR REPLACE FUNCTION ${catalog}.${schema}.campaign_total(\n",
    "  template_name STRING COMMENT 'Name of the campaign template, should be Template followed by an integer, e.g. Template 0'\n",
    ")\n",
    "RETURNS TABLE(\n",
    "  total_cost DOUBLE,\n",
    "  campaign_start DATE,\n",
    "  campaign_end DATE\n",
    "  )\n",
    "COMMENT 'Returns the total cost and dates of a campaign. If the user asks for a campaign number, use Template x, where x is an integer up to 20. If the table is blank it likely means that campaign number does not exist'\n",
    "RETURN\n",
    "SELECT \n",
    "  SUM(cost) as total_cost,\n",
    "  MIN(start_date) as campaign_start,\n",
    "  MAX(end_date) as campaign_end\n",
    "FROM ${catalog}.${schema}.${fixed_camp_table}\n",
    "WHERE lower(template) = lower(template_name)"
   ]
  },
  {
   "cell_type": "code",
   "execution_count": 0,
   "metadata": {
    "application/vnd.databricks.v1+cell": {
     "cellMetadata": {
      "byteLimit": 2048000,
      "implicitDf": true,
      "rowLimit": 10000
     },
     "inputWidgets": {},
     "nuid": "e8a64a67-6fd0-4bd9-875d-d4345425cb7c",
     "showTitle": false,
     "tableResultSettingsMap": {},
     "title": ""
    }
   },
   "outputs": [],
   "source": [
    "%sql\n",
    "SELECT * FROM ${catalog}.${schema}.campaign_total('Template 0')"
   ]
  },
  {
   "cell_type": "code",
   "execution_count": 0,
   "metadata": {
    "application/vnd.databricks.v1+cell": {
     "cellMetadata": {
      "byteLimit": 2048000,
      "rowLimit": 10000
     },
     "inputWidgets": {},
     "nuid": "b836a765-7ca9-4a01-946d-d3a07fd908fc",
     "showTitle": false,
     "tableResultSettingsMap": {},
     "title": ""
    }
   },
   "outputs": [],
   "source": [
    "from databricks.sdk import WorkspaceClient\n",
    "\n",
    "w = WorkspaceClient()"
   ]
  },
  {
   "cell_type": "markdown",
   "metadata": {
    "application/vnd.databricks.v1+cell": {
     "cellMetadata": {},
     "inputWidgets": {},
     "nuid": "d01e5ff5-2ad4-4e98-b4cb-7dfcdd42ef98",
     "showTitle": false,
     "tableResultSettingsMap": {},
     "title": ""
    }
   },
   "source": [
    "## Genie Agent\n",
    "Next we are going to use the databricks-langchain notebook to do tool creation using a Genie workspace. See https://github.com/databricks/databricks-ai-bridge for more.\n",
    "\n",
    "Databricks LangChain (e.g. AI Bridge) has a wrapper around the Genie Conversation API that allows the creation of a LangGraph Node or Agent for a Genie Space."
   ]
  },
  {
   "cell_type": "code",
   "execution_count": 0,
   "metadata": {
    "application/vnd.databricks.v1+cell": {
     "cellMetadata": {
      "byteLimit": 2048000,
      "rowLimit": 10000
     },
     "inputWidgets": {},
     "nuid": "fdc273ec-d8d8-42b0-9939-72cbc8e397e2",
     "showTitle": false,
     "tableResultSettingsMap": {},
     "title": ""
    }
   },
   "outputs": [],
   "source": [
    "from databricks_langchain.genie import GenieAgent\n",
    "import mlflow\n",
    "\n",
    "genie_space_id = config['genie_space_id']\n",
    "assert genie_space_id is not None, \"Please fill out your Genie Space ID!\"\n",
    "genie_agent = GenieAgent(\n",
    "  genie_space_id,\n",
    "  \"marketing_agent\",\n",
    "  description=\"\"\"\n",
    "    This agent can access information about marketing campaigns and their performance. Example questions include\n",
    "    - How has the total number of emails sent, delivered, and the unique clicks evolved over the last six months?\n",
    "    - Which industries have shown the highest engagement rates with marketing campaigns?\n",
    "  \"\"\",\n",
    "  client=w,\n",
    "),"
   ]
  },
  {
   "cell_type": "markdown",
   "metadata": {
    "application/vnd.databricks.v1+cell": {
     "cellMetadata": {},
     "inputWidgets": {},
     "nuid": "c7d2d8ff-a37c-4f23-b9e8-3dc4b76999af",
     "showTitle": false,
     "tableResultSettingsMap": {},
     "title": ""
    }
   },
   "source": [
    "We can now use the familiar `invoke` pattern that langchain uses"
   ]
  },
  {
   "cell_type": "code",
   "execution_count": 0,
   "metadata": {
    "application/vnd.databricks.v1+cell": {
     "cellMetadata": {
      "byteLimit": 2048000,
      "rowLimit": 10000
     },
     "inputWidgets": {},
     "nuid": "b38adc0c-c920-47b0-b536-079981be68d5",
     "showTitle": false,
     "tableResultSettingsMap": {},
     "title": ""
    }
   },
   "outputs": [],
   "source": [
    "input_example = {\n",
    "    \"messages\": [\n",
    "        {\n",
    "            \"role\": \"user\",\n",
    "            \"content\": \"What are the top 3 subject lines for my campaigns that led to the most number of opens?\",\n",
    "        },        \n",
    "    ]\n",
    "}\n",
    "\n",
    "genie_agent.invoke(input_example)"
   ]
  },
  {
   "cell_type": "markdown",
   "metadata": {
    "application/vnd.databricks.v1+cell": {
     "cellMetadata": {},
     "inputWidgets": {},
     "nuid": "a5cf8ee4-af51-44ab-9fa7-e15159c0d9de",
     "showTitle": false,
     "tableResultSettingsMap": {},
     "title": ""
    }
   },
   "source": [
    "## Vector Search\n",
    "We can also serve Vector Search as either a Langchain Retriever, or a UC Function. My preference right now is the UC Function due to the universal usability in a) Playground, b) ReACT Agents, and c) Agents via tools."
   ]
  },
  {
   "cell_type": "code",
   "execution_count": 0,
   "metadata": {
    "application/vnd.databricks.v1+cell": {
     "cellMetadata": {
      "byteLimit": 2048000,
      "rowLimit": 10000
     },
     "inputWidgets": {},
     "nuid": "6c38c3ba-7a85-4302-80ef-41fb57905a22",
     "showTitle": false,
     "tableResultSettingsMap": {},
     "title": ""
    }
   },
   "outputs": [],
   "source": [
    "from databricks.vector_search.client import VectorSearchClient\n",
    "client = VectorSearchClient()"
   ]
  },
  {
   "cell_type": "code",
   "execution_count": 0,
   "metadata": {
    "application/vnd.databricks.v1+cell": {
     "cellMetadata": {
      "byteLimit": 2048000,
      "implicitDf": true,
      "rowLimit": 10000
     },
     "inputWidgets": {},
     "nuid": "addb86a6-37fc-4690-9941-61c930203b4d",
     "showTitle": false,
     "tableResultSettingsMap": {},
     "title": ""
    }
   },
   "outputs": [],
   "source": [
    "%sql\n",
    "ALTER TABLE ${catalog}.${schema}.${fixed_camp_table}\n",
    "SET TBLPROPERTIES (delta.enableChangeDataFeed = true)"
   ]
  },
  {
   "cell_type": "markdown",
   "metadata": {
    "application/vnd.databricks.v1+cell": {
     "cellMetadata": {},
     "inputWidgets": {},
     "nuid": "3c0b58fc-dd7e-479e-be3d-7a2a4b765a54",
     "showTitle": false,
     "tableResultSettingsMap": {},
     "title": ""
    }
   },
   "source": [
    "We can sync or create the vector search using the following code snippet"
   ]
  },
  {
   "cell_type": "code",
   "execution_count": 0,
   "metadata": {
    "application/vnd.databricks.v1+cell": {
     "cellMetadata": {
      "byteLimit": 2048000,
      "rowLimit": 10000
     },
     "inputWidgets": {},
     "nuid": "5af6f209-7129-4852-8c7b-8f2101326f87",
     "showTitle": false,
     "tableResultSettingsMap": {},
     "title": ""
    }
   },
   "outputs": [],
   "source": [
    "source_table = f\"{config['catalog']}.{config['schema']}.{config['fixed_camp_table']}\"\n",
    "index_name = source_table+\"_index\"\n",
    "try:\n",
    "  index = client.create_delta_sync_index(\n",
    "    endpoint_name=config['vector_search_endpoint'],\n",
    "    source_table_name=source_table,\n",
    "    index_name=index_name,\n",
    "    pipeline_type=\"TRIGGERED\",\n",
    "    primary_key=\"campaign_id\",\n",
    "    embedding_source_column=\"campaign_description\",\n",
    "    embedding_model_endpoint_name=config['em_endpoint_name']\n",
    "  )\n",
    "except Exception as e:\n",
    "  print(e)\n",
    "  index = client.get_index(index_name=index_name)\n",
    "  index.sync()"
   ]
  },
  {
   "cell_type": "markdown",
   "metadata": {
    "application/vnd.databricks.v1+cell": {
     "cellMetadata": {},
     "inputWidgets": {},
     "nuid": "7414815a-fd2f-4416-869f-6b79b91f2bd7",
     "showTitle": false,
     "tableResultSettingsMap": {},
     "title": ""
    }
   },
   "source": [
    "We can also convert the vector search into a Unity Catalog function and call it in playground, or agentic flows."
   ]
  },
  {
   "cell_type": "code",
   "execution_count": 0,
   "metadata": {
    "application/vnd.databricks.v1+cell": {
     "cellMetadata": {
      "byteLimit": 2048000,
      "implicitDf": true,
      "rowLimit": 10000
     },
     "inputWidgets": {},
     "nuid": "a24feeda-b25e-4d13-b887-93463b05cc54",
     "showTitle": false,
     "tableResultSettingsMap": {},
     "title": ""
    }
   },
   "outputs": [],
   "source": [
    "%sql\n",
    "CREATE OR REPLACE FUNCTION ${catalog}.${schema}.campaign_search(\n",
    "  description STRING COMMENT 'A campaign description'\n",
    ")\n",
    "RETURNS TABLE (\n",
    "  campaign_id INTEGER,\n",
    "  template STRING,\n",
    "  campaign_name STRING,\n",
    "  campaign_description STRING\n",
    ")\n",
    "COMMENT 'Returns the top three campaing template, name descriptions based on semantically similarity to the input query.\n",
    "'\n",
    "RETURN\n",
    "SELECT campaign_id, template, campaign_name, campaign_description\n",
    "FROM vector_search(\n",
    "  index=>'${catalog}.${schema}.${fixed_camp_table}_index',\n",
    "  query_text=>description,\n",
    "  num_results=>3,\n",
    "  query_type=>'hybrid'\n",
    ")"
   ]
  },
  {
   "cell_type": "code",
   "execution_count": 0,
   "metadata": {
    "application/vnd.databricks.v1+cell": {
     "cellMetadata": {
      "byteLimit": 2048000,
      "implicitDf": true,
      "rowLimit": 10000
     },
     "inputWidgets": {},
     "nuid": "43e35460-2ff4-4fcd-9399-8935c85d99f5",
     "showTitle": false,
     "tableResultSettingsMap": {},
     "title": ""
    }
   },
   "outputs": [],
   "source": [
    "%sql\n",
    "SELECT * \n",
    "FROM ${catalog}.${schema}.campaign_search('Viking range hood')"
   ]
  },
  {
   "cell_type": "markdown",
   "metadata": {
    "application/vnd.databricks.v1+cell": {
     "cellMetadata": {},
     "inputWidgets": {},
     "nuid": "620b404f-24f9-4949-b609-a80267a24369",
     "showTitle": false,
     "tableResultSettingsMap": {},
     "title": ""
    }
   },
   "source": []
  }
 ],
 "metadata": {
  "application/vnd.databricks.v1+notebook": {
   "computePreferences": null,
   "dashboards": [],
   "environmentMetadata": {
    "base_environment": "",
    "environment_version": "2"
   },
   "inputWidgetPreferences": null,
   "language": "python",
   "notebookMetadata": {
    "mostRecentlyExecutedCommandWithImplicitDF": {
     "commandId": 2841115366979982,
     "dataframes": [
      "_sqldf"
     ]
    },
    "pythonIndentUnit": 4
   },
   "notebookName": "02_tools",
   "widgets": {
    "catalog": {
     "currentValue": "cjc",
     "nuid": "8519441e-f95e-46b1-b8d1-0ffc3d944d0f",
     "typedWidgetInfo": {
      "autoCreated": false,
      "defaultValue": "cjc",
      "label": null,
      "name": "catalog",
      "options": {
       "widgetDisplayType": "Text",
       "validationRegex": null
      },
      "parameterDataType": "String"
     },
     "widgetInfo": {
      "widgetType": "text",
      "defaultValue": "cjc",
      "label": null,
      "name": "catalog",
      "options": {
       "widgetType": "text",
       "autoCreated": null,
       "validationRegex": null
      }
     }
    },
    "endpoint_name": {
     "currentValue": "databricks-meta-llama-3-3-70b-instruct",
     "nuid": "5b17d8b2-b179-4642-b99e-ca7561fd73e3",
     "typedWidgetInfo": {
      "autoCreated": false,
      "defaultValue": "databricks-meta-llama-3-3-70b-instruct",
      "label": null,
      "name": "endpoint_name",
      "options": {
       "widgetDisplayType": "Text",
       "validationRegex": null
      },
      "parameterDataType": "String"
     },
     "widgetInfo": {
      "widgetType": "text",
      "defaultValue": "databricks-meta-llama-3-3-70b-instruct",
      "label": null,
      "name": "endpoint_name",
      "options": {
       "widgetType": "text",
       "autoCreated": null,
       "validationRegex": null
      }
     }
    },
    "fixed_camp_table": {
     "currentValue": "campaigns_fixed",
     "nuid": "47545619-a781-4e31-b112-2dc95947663b",
     "typedWidgetInfo": {
      "autoCreated": false,
      "defaultValue": "campaigns_fixed",
      "label": null,
      "name": "fixed_camp_table",
      "options": {
       "widgetDisplayType": "Text",
       "validationRegex": null
      },
      "parameterDataType": "String"
     },
     "widgetInfo": {
      "widgetType": "text",
      "defaultValue": "campaigns_fixed",
      "label": null,
      "name": "fixed_camp_table",
      "options": {
       "widgetType": "text",
       "autoCreated": null,
       "validationRegex": null
      }
     }
    },
    "fm_endpoint_name": {
     "currentValue": "databricks-meta-llama-3-3-70b-instruct",
     "nuid": "883d43c6-1c26-41eb-bec3-cc9a8b475152",
     "typedWidgetInfo": {
      "autoCreated": false,
      "defaultValue": "databricks-meta-llama-3-3-70b-instruct",
      "label": null,
      "name": "fm_endpoint_name",
      "options": {
       "widgetDisplayType": "Text",
       "validationRegex": null
      },
      "parameterDataType": "String"
     },
     "widgetInfo": {
      "widgetType": "text",
      "defaultValue": "databricks-meta-llama-3-3-70b-instruct",
      "label": null,
      "name": "fm_endpoint_name",
      "options": {
       "widgetType": "text",
       "autoCreated": null,
       "validationRegex": null
      }
     }
    },
    "products_table": {
     "currentValue": "products",
     "nuid": "ab21da34-a595-49be-a681-b2a60c93228e",
     "typedWidgetInfo": {
      "autoCreated": false,
      "defaultValue": "products",
      "label": null,
      "name": "products_table",
      "options": {
       "widgetDisplayType": "Text",
       "validationRegex": null
      },
      "parameterDataType": "String"
     },
     "widgetInfo": {
      "widgetType": "text",
      "defaultValue": "products",
      "label": null,
      "name": "products_table",
      "options": {
       "widgetType": "text",
       "autoCreated": null,
       "validationRegex": null
      }
     }
    },
    "schema": {
     "currentValue": "marketing",
     "nuid": "1c82f3a9-4673-41ff-9d38-a493f0e91425",
     "typedWidgetInfo": {
      "autoCreated": false,
      "defaultValue": "marketing",
      "label": null,
      "name": "schema",
      "options": {
       "widgetDisplayType": "Text",
       "validationRegex": null
      },
      "parameterDataType": "String"
     },
     "widgetInfo": {
      "widgetType": "text",
      "defaultValue": "marketing",
      "label": null,
      "name": "schema",
      "options": {
       "widgetType": "text",
       "autoCreated": null,
       "validationRegex": null
      }
     }
    }
   }
  },
  "language_info": {
   "name": "python"
  }
 },
 "nbformat": 4,
 "nbformat_minor": 0
}
