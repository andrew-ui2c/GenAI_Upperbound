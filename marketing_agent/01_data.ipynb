{
 "cells": [
  {
   "cell_type": "markdown",
   "metadata": {
    "application/vnd.databricks.v1+cell": {
     "cellMetadata": {
      "byteLimit": 2048000,
      "rowLimit": 10000
     },
     "inputWidgets": {},
     "nuid": "cadebfbc-91ea-499f-898f-778d4df0280f",
     "showTitle": false,
     "tableResultSettingsMap": {},
     "title": ""
    }
   },
   "source": [
    "# Data\n",
    "This notebook generates the data for the campaign - unfortunately the original dataset is a little disjointed. But we are going to use batch inference to fix that and make a very strong dataset for analysis. This notebook works with Serverless"
   ]
  },
  {
   "cell_type": "code",
   "execution_count": 0,
   "metadata": {
    "application/vnd.databricks.v1+cell": {
     "cellMetadata": {
      "byteLimit": 2048000,
      "rowLimit": 10000
     },
     "inputWidgets": {},
     "nuid": "935266c2-d3a0-4992-ba5c-a812e87d1fe1",
     "showTitle": false,
     "tableResultSettingsMap": {},
     "title": ""
    }
   },
   "outputs": [],
   "source": [
    "%pip install dbdemos\n",
    "%restart_python"
   ]
  },
  {
   "cell_type": "code",
   "execution_count": 0,
   "metadata": {
    "application/vnd.databricks.v1+cell": {
     "cellMetadata": {
      "byteLimit": 2048000,
      "rowLimit": 10000
     },
     "inputWidgets": {},
     "nuid": "90fd106a-e801-43be-bd91-23fdff959632",
     "showTitle": false,
     "tableResultSettingsMap": {},
     "title": ""
    }
   },
   "outputs": [],
   "source": [
    "import yaml\n",
    "with open('config.yaml', 'r') as f:\n",
    "    config = yaml.safe_load(f)\n",
    "\n",
    "dbutils.widgets.text(\"catalog\", config['catalog'])\n",
    "dbutils.widgets.text(\"schema\", config['schema'])\n",
    "dbutils.widgets.text(\"products_table\", config['products_table'])\n",
    "dbutils.widgets.text(\"fixed_camp_table\", config['fixed_camp_table'])\n",
    "dbutils.widgets.text(\"fm_endpoint_name\", config['fm_endpoint_name'])"
   ]
  },
  {
   "cell_type": "code",
   "execution_count": 0,
   "metadata": {
    "application/vnd.databricks.v1+cell": {
     "cellMetadata": {
      "byteLimit": 2048000,
      "rowLimit": 10000
     },
     "inputWidgets": {},
     "nuid": "76463f6f-294a-4799-be8b-f01484cc8990",
     "showTitle": false,
     "tableResultSettingsMap": {},
     "title": ""
    }
   },
   "outputs": [],
   "source": [
    "import dbdemos\n",
    "dbdemos.install(\n",
    "  'aibi-marketing-campaign', \n",
    "  catalog=config['catalog'], \n",
    "  schema=config['schema'],\n",
    "  overwrite=False\n",
    "  )"
   ]
  },
  {
   "cell_type": "markdown",
   "metadata": {
    "application/vnd.databricks.v1+cell": {
     "cellMetadata": {
      "byteLimit": 2048000,
      "rowLimit": 10000
     },
     "inputWidgets": {},
     "nuid": "9f2ce9bb-a8a6-4d45-abc6-03d4498569a1",
     "showTitle": false,
     "tableResultSettingsMap": {},
     "title": ""
    }
   },
   "source": [
    "Now, navigate to `./aibi-marketing-campaign/_genie_spaces/DBDemos - AI-BI - Marketing Campaign` (or click the Genie space link above) and get the Genie ID from the URL, e.g. https://adb-984752964297111.11.azuredatabricks.net/genie/rooms/01f01ae0314e1bee9eb26ea2d75bede6 has the Genie space ID = '01f01ae0314e1bee9eb26ea2d75bede6'. You will need this later on."
   ]
  },
  {
   "cell_type": "markdown",
   "metadata": {
    "application/vnd.databricks.v1+cell": {
     "cellMetadata": {
      "byteLimit": 2048000,
      "rowLimit": 10000
     },
     "inputWidgets": {},
     "nuid": "105a972f-6b02-464c-a7f5-2e21930c90e8",
     "showTitle": false,
     "tableResultSettingsMap": {},
     "title": ""
    }
   },
   "source": [
    "We are also going to grab a sample product dataset, saved locally in this repo and use it to generate better reviews using batch inference (via AI_QUERY). AI Query can make a MUCH better campaign table using this product table. We are going to use structured outputs to generate a useful json for a random sample of the products. This query is a bit of a beast but randomly joins 100 products to our campaign table and uses Llama 70B to generate solid campaign slogans for real products"
   ]
  },
  {
   "cell_type": "code",
   "execution_count": 0,
   "metadata": {
    "application/vnd.databricks.v1+cell": {
     "cellMetadata": {
      "byteLimit": 2048000,
      "implicitDf": true,
      "rowLimit": 10000
     },
     "inputWidgets": {},
     "nuid": "4f8c4da7-e0cc-47eb-9a9e-ef13f4a29d00",
     "showTitle": false,
     "tableResultSettingsMap": {},
     "title": ""
    }
   },
   "outputs": [],
   "source": [
    "%sql\n",
    "SELECT * FROM cjc.marketing.campaigns LIMIT 5"
   ]
  },
  {
   "cell_type": "code",
   "execution_count": 0,
   "metadata": {
    "application/vnd.databricks.v1+cell": {
     "cellMetadata": {
      "byteLimit": 2048000,
      "rowLimit": 10000
     },
     "inputWidgets": {},
     "nuid": "a05d29df-1d75-406b-9541-9261d2c63cc9",
     "showTitle": false,
     "tableResultSettingsMap": {},
     "title": ""
    }
   },
   "outputs": [],
   "source": [
    "import pandas as pd\n",
    "(\n",
    "  spark.createDataFrame(pd.read_csv('products.csv'))\n",
    "  .write.format('delta')\n",
    "  .mode('overwrite')\n",
    "  .saveAsTable(f\"{config['catalog']}.{config['schema']}.{config['products_table']}\")\n",
    ")"
   ]
  },
  {
   "cell_type": "markdown",
   "metadata": {
    "application/vnd.databricks.v1+cell": {
     "cellMetadata": {
      "byteLimit": 2048000,
      "rowLimit": 10000
     },
     "inputWidgets": {},
     "nuid": "426204b2-0fcc-42e9-8748-f94f06363e2b",
     "showTitle": false,
     "tableResultSettingsMap": {},
     "title": ""
    }
   },
   "source": [
    "This query looks a bit intense, but it merges the products and campaigns tables and uses Batch inference to generate a much more realistic dataset with proper campaign descriptions and subjects for real products."
   ]
  },
  {
   "cell_type": "code",
   "execution_count": 0,
   "metadata": {
    "application/vnd.databricks.v1+cell": {
     "cellMetadata": {
      "byteLimit": 2048000,
      "implicitDf": true,
      "rowLimit": 10000
     },
     "inputWidgets": {},
     "nuid": "0d1997c9-91c8-4fb8-a733-842a31e918cb",
     "showTitle": false,
     "tableResultSettingsMap": {},
     "title": ""
    }
   },
   "outputs": [],
   "source": [
    "%sql\n",
    "CREATE OR REPLACE TABLE ${catalog}.${schema}.${fixed_camp_table} AS\n",
    "-- Get a nice joined table\n",
    "WITH RandomProduct AS (\n",
    "  SELECT\n",
    "      ROW_NUMBER() OVER (ORDER BY RAND()) + 100 AS row,\n",
    "      *\n",
    "  FROM ${catalog}.${schema}.${products_table}\n",
    "  LIMIT 100\n",
    ")\n",
    "SELECT \n",
    "  C.campaign_id, C.template, C.cost, \n",
    "  C.start_date, C.end_date, C.mailing_list,\n",
    "  P.title, P.product_id, \n",
    "  json_tuple(\n",
    "    AI_QUERY(\n",
    "      '${fm_endpoint_name}',\n",
    "      CONCAT('Using the following product title, description, and feature summary, make a witty campaign name, campaign description, and email marketing subject line. Return them in json format. \\n', title, product_description, features_summary),\n",
    "      responseFormat => '{\n",
    "        \"type\": \"json_schema\",\n",
    "        \"json_schema\": {\n",
    "          \"name\": \"generated_campaign\",\n",
    "          \"schema\": {\n",
    "            \"type\": \"object\",\n",
    "            \"properties\": {\n",
    "              \"campaign_name\": {\"type\": \"string\"},\n",
    "              \"campaign_description\": {\"type\": \"string\"},\n",
    "              \"subject_line\": {\"type\": \"string\"}\n",
    "            }\n",
    "          }\n",
    "        }\n",
    "      }'\n",
    "    ), \n",
    "    'campaign_name', 'campaign_description', 'subject_line') \n",
    "    AS (campaign_name, campaign_description, subject_line)\n",
    "FROM RandomProduct P\n",
    "JOIN ${catalog}.${schema}.campaigns C\n",
    "ON P.row = C.campaign_id"
   ]
  },
  {
   "cell_type": "code",
   "execution_count": 0,
   "metadata": {
    "application/vnd.databricks.v1+cell": {
     "cellMetadata": {
      "byteLimit": 2048000,
      "implicitDf": true,
      "rowLimit": 10000
     },
     "inputWidgets": {},
     "nuid": "8b405d81-e433-4f1f-a0bf-58bf3c5061cb",
     "showTitle": false,
     "tableResultSettingsMap": {},
     "title": ""
    }
   },
   "outputs": [],
   "source": [
    "%sql\n",
    "SELECT * FROM ${catalog}.${schema}.${fixed_camp_table}\n",
    "LIMIT 1"
   ]
  },
  {
   "cell_type": "markdown",
   "metadata": {
    "application/vnd.databricks.v1+cell": {
     "cellMetadata": {
      "byteLimit": 2048000,
      "rowLimit": 10000
     },
     "inputWidgets": {},
     "nuid": "641f2502-f7e2-4c04-a0a6-4c9217eb12fc",
     "showTitle": false,
     "tableResultSettingsMap": {},
     "title": ""
    }
   },
   "source": [
    "Now that we have a fixed up table, let's go make some tools!"
   ]
  }
 ],
 "metadata": {
  "application/vnd.databricks.v1+notebook": {
   "computePreferences": null,
   "dashboards": [],
   "environmentMetadata": {
    "base_environment": "",
    "environment_version": "2"
   },
   "inputWidgetPreferences": null,
   "language": "python",
   "notebookMetadata": {
    "mostRecentlyExecutedCommandWithImplicitDF": {
     "commandId": 2841115366964556,
     "dataframes": [
      "_sqldf"
     ]
    },
    "pythonIndentUnit": 4
   },
   "notebookName": "01_data",
   "widgets": {
    "catalog": {
     "currentValue": "cjc",
     "nuid": "1597ecbc-3550-48f1-85fa-0a714ec92890",
     "typedWidgetInfo": {
      "autoCreated": false,
      "defaultValue": "cjc",
      "label": null,
      "name": "catalog",
      "options": {
       "widgetDisplayType": "Text",
       "validationRegex": null
      },
      "parameterDataType": "String"
     },
     "widgetInfo": {
      "widgetType": "text",
      "defaultValue": "cjc",
      "label": null,
      "name": "catalog",
      "options": {
       "widgetType": "text",
       "autoCreated": null,
       "validationRegex": null
      }
     }
    },
    "endpoint_name": {
     "currentValue": "databricks-meta-llama-3-3-70b-instruct",
     "nuid": "98a12930-44a7-4141-8c7e-286faf63045f",
     "typedWidgetInfo": {
      "autoCreated": false,
      "defaultValue": "databricks-meta-llama-3-3-70b-instruct",
      "label": null,
      "name": "endpoint_name",
      "options": {
       "widgetDisplayType": "Text",
       "validationRegex": null
      },
      "parameterDataType": "String"
     },
     "widgetInfo": {
      "widgetType": "text",
      "defaultValue": "databricks-meta-llama-3-3-70b-instruct",
      "label": null,
      "name": "endpoint_name",
      "options": {
       "widgetType": "text",
       "autoCreated": null,
       "validationRegex": null
      }
     }
    },
    "fixed_camp_table": {
     "currentValue": "campaigns_fixed",
     "nuid": "4ee0ead3-9bb0-4788-8dbd-0b33eeff65e2",
     "typedWidgetInfo": {
      "autoCreated": false,
      "defaultValue": "campaigns_fixed",
      "label": null,
      "name": "fixed_camp_table",
      "options": {
       "widgetDisplayType": "Text",
       "validationRegex": null
      },
      "parameterDataType": "String"
     },
     "widgetInfo": {
      "widgetType": "text",
      "defaultValue": "campaigns_fixed",
      "label": null,
      "name": "fixed_camp_table",
      "options": {
       "widgetType": "text",
       "autoCreated": null,
       "validationRegex": null
      }
     }
    },
    "fm_endpoint_name": {
     "currentValue": "databricks-meta-llama-3-3-70b-instruct",
     "nuid": "e7f5bf56-8e5d-4fcd-837c-2c8217629d12",
     "typedWidgetInfo": {
      "autoCreated": false,
      "defaultValue": "databricks-meta-llama-3-3-70b-instruct",
      "label": null,
      "name": "fm_endpoint_name",
      "options": {
       "widgetDisplayType": "Text",
       "validationRegex": null
      },
      "parameterDataType": "String"
     },
     "widgetInfo": {
      "widgetType": "text",
      "defaultValue": "databricks-meta-llama-3-3-70b-instruct",
      "label": null,
      "name": "fm_endpoint_name",
      "options": {
       "widgetType": "text",
       "autoCreated": null,
       "validationRegex": null
      }
     }
    },
    "products_table": {
     "currentValue": "products",
     "nuid": "5d2fa527-c7e5-43c6-ac89-27642e19a5de",
     "typedWidgetInfo": {
      "autoCreated": false,
      "defaultValue": "products",
      "label": null,
      "name": "products_table",
      "options": {
       "widgetDisplayType": "Text",
       "validationRegex": null
      },
      "parameterDataType": "String"
     },
     "widgetInfo": {
      "widgetType": "text",
      "defaultValue": "products",
      "label": null,
      "name": "products_table",
      "options": {
       "widgetType": "text",
       "autoCreated": null,
       "validationRegex": null
      }
     }
    },
    "schema": {
     "currentValue": "marketing",
     "nuid": "6b171013-7f62-4455-8465-07b3f55e9037",
     "typedWidgetInfo": {
      "autoCreated": false,
      "defaultValue": "marketing",
      "label": null,
      "name": "schema",
      "options": {
       "widgetDisplayType": "Text",
       "validationRegex": null
      },
      "parameterDataType": "String"
     },
     "widgetInfo": {
      "widgetType": "text",
      "defaultValue": "marketing",
      "label": null,
      "name": "schema",
      "options": {
       "widgetType": "text",
       "autoCreated": null,
       "validationRegex": null
      }
     }
    }
   }
  },
  "language_info": {
   "name": "python"
  }
 },
 "nbformat": 4,
 "nbformat_minor": 0
}
