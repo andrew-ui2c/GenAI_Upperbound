{
 "cells": [
  {
   "cell_type": "markdown",
   "metadata": {
    "application/vnd.databricks.v1+cell": {
     "cellMetadata": {},
     "inputWidgets": {},
     "nuid": "f4db0467-03d8-4743-910f-13d02fc8ba85",
     "showTitle": false,
     "tableResultSettingsMap": {},
     "title": ""
    }
   },
   "source": [
    "# Genie Natural Language SQL Practice (Bakehouse Dataset)\n",
    "You are working with the upperbound.bakehouse dataset, which contains five tables: media_customer_reviews, sales_franchises, sales_customers, sales_suppliers, and sales_transactions. In this exercise, you will use Databricks AI/BI Genie to explore this data using natural language questions instead of writing SQL. Genie will translate your plain-English questions into SQL queries on the backend, and return results and charts for you.\n",
    "\n",
    "This hands-on practice is structured as a sequence of steps (about 40–50 minutes total). We’ll start with simple queries and build up to more complex analysis involving joins, filters, and aggregations. Along the way, you will leverage Genie’s features like automatic visualizations and AI-powered metadata. All interactions will be in natural language – you will type questions or commands to Genie, and Genie will do the rest.\n",
    "\n",
    "Run two cells below to copy the data and click the Genie link on the left side of your screen."
   ]
  },
  {
   "cell_type": "code",
   "execution_count": 0,
   "metadata": {
    "application/vnd.databricks.v1+cell": {
     "cellMetadata": {
      "byteLimit": 2048000,
      "rowLimit": 10000
     },
     "inputWidgets": {},
     "nuid": "d0d92028-34f4-4da8-af53-a792acf69488",
     "showTitle": false,
     "tableResultSettingsMap": {},
     "title": ""
    }
   },
   "outputs": [],
   "source": [
    "# Create the catalog if it does not exist\n",
    "spark.sql(\"CREATE CATALOG IF NOT EXISTS upperbound\")"
   ]
  },
  {
   "cell_type": "code",
   "execution_count": 0,
   "metadata": {
    "application/vnd.databricks.v1+cell": {
     "cellMetadata": {
      "byteLimit": 2048000,
      "rowLimit": 10000
     },
     "inputWidgets": {},
     "nuid": "0eea9b3f-7db1-4631-9e25-61ba0e293783",
     "showTitle": false,
     "tableResultSettingsMap": {},
     "title": ""
    }
   },
   "outputs": [],
   "source": [
    "# Create the schema if it does not exist\n",
    "spark.sql(\"CREATE SCHEMA IF NOT EXISTS upperbound.bakehouse\")\n",
    "\n",
    "# Copy additional tables\n",
    "tables_to_copy = [\n",
    "    \"media_customer_reviews\",\n",
    "    \"sales_customers\",\n",
    "    \"sales_franchises\",\n",
    "    \"sales_suppliers\",\n",
    "    \"sales_transactions\"\n",
    "]\n",
    "\n",
    "for table in tables_to_copy:\n",
    "    source_table = f\"samples.bakehouse.{table}\"\n",
    "    target_table = f\"upperbound.bakehouse.{table}\"\n",
    "    df = spark.table(source_table)\n",
    "    \n",
    "    if table == \"sales_customers\":\n",
    "        df = df.withColumn(\"customerID\", df[\"customerID\"] - 1000000)\n",
    "    \n",
    "    df.write.mode(\"overwrite\").saveAsTable(target_table)"
   ]
  }
 ],
 "metadata": {
  "application/vnd.databricks.v1+notebook": {
   "computePreferences": null,
   "dashboards": [],
   "environmentMetadata": {
    "base_environment": "",
    "environment_version": "2"
   },
   "inputWidgetPreferences": null,
   "language": "python",
   "notebookMetadata": {
    "mostRecentlyExecutedCommandWithImplicitDF": {
     "commandId": 5827225351628557,
     "dataframes": [
      "_sqldf"
     ]
    },
    "pythonIndentUnit": 4
   },
   "notebookName": "01_genie_data_setup",
   "widgets": {}
  },
  "language_info": {
   "name": "python"
  }
 },
 "nbformat": 4,
 "nbformat_minor": 0
}
