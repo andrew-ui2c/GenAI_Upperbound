{
 "cells": [
  {
   "cell_type": "markdown",
   "metadata": {
    "application/vnd.databricks.v1+cell": {
     "cellMetadata": {},
     "inputWidgets": {},
     "nuid": "f4db0467-03d8-4743-910f-13d02fc8ba85",
     "showTitle": false,
     "tableResultSettingsMap": {},
     "title": ""
    }
   },
   "source": [
    "# Genie AI Upperbound\n",
    "Here are the steps:\n",
    "1. Copy the data we are going to be working with.\n",
    "2. Go into Genie AI"
   ]
  },
  {
   "cell_type": "code",
   "execution_count": 0,
   "metadata": {
    "application/vnd.databricks.v1+cell": {
     "cellMetadata": {
      "byteLimit": 2048000,
      "rowLimit": 10000
     },
     "inputWidgets": {},
     "nuid": "d0d92028-34f4-4da8-af53-a792acf69488",
     "showTitle": false,
     "tableResultSettingsMap": {},
     "title": ""
    }
   },
   "outputs": [],
   "source": [
    "# Create the catalog if it does not exist\n",
    "spark.sql(\"CREATE CATALOG IF NOT EXISTS upperbound\")"
   ]
  },
  {
   "cell_type": "code",
   "execution_count": 0,
   "metadata": {
    "application/vnd.databricks.v1+cell": {
     "cellMetadata": {
      "byteLimit": 2048000,
      "rowLimit": 10000
     },
     "inputWidgets": {},
     "nuid": "0eea9b3f-7db1-4631-9e25-61ba0e293783",
     "showTitle": false,
     "tableResultSettingsMap": {},
     "title": ""
    }
   },
   "outputs": [],
   "source": [
    "# Create the schema if it does not exist\n",
    "spark.sql(\"CREATE SCHEMA IF NOT EXISTS upperbound.bakehouse\")\n",
    "\n",
    "# Copy additional tables\n",
    "tables_to_copy = [\n",
    "    \"media_customer_reviews\",\n",
    "    \"sales_customers\",\n",
    "    \"sales_franchises\",\n",
    "    \"sales_suppliers\",\n",
    "    \"sales_transactions\"\n",
    "]\n",
    "\n",
    "for table in tables_to_copy:\n",
    "    source_table = f\"samples.bakehouse.{table}\"\n",
    "    target_table = f\"upperbound.bakehouse.{table}\"\n",
    "    df = spark.table(source_table)\n",
    "    \n",
    "    if table == \"sales_customers\":\n",
    "        df = df.withColumn(\"customerID\", df[\"customerID\"] - 1000000)\n",
    "    \n",
    "    df.write.mode(\"overwrite\").saveAsTable(target_table)"
   ]
  }
 ],
 "metadata": {
  "application/vnd.databricks.v1+notebook": {
   "computePreferences": null,
   "dashboards": [],
   "environmentMetadata": {
    "base_environment": "",
    "environment_version": "2"
   },
   "inputWidgetPreferences": null,
   "language": "python",
   "notebookMetadata": {
    "mostRecentlyExecutedCommandWithImplicitDF": {
     "commandId": 5827225351628557,
     "dataframes": [
      "_sqldf"
     ]
    },
    "pythonIndentUnit": 4
   },
   "notebookName": "Genie AI Upperbound",
   "widgets": {}
  },
  "language_info": {
   "name": "python"
  }
 },
 "nbformat": 4,
 "nbformat_minor": 0
}
